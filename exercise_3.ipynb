{
 "cells": [
  {
   "cell_type": "markdown",
   "metadata": {},
   "source": [
    "# Exercise Set 3: Strings, requests and APIs\n",
    "\n",
    "*Morning, August 13, 2019*\n",
    "\n",
    "In this exercise set you will be working with collecting from the web. We will start out with some basic string operations and build on that to make a query for fetching data.\n",
    "\n",
    "In addition to DataCamp, you might find [this page](https://pythonprogramming.net/string-concatenation-formatting-intermediate-python-tutorial/) on pythonprogramming.net useful. [This page](https://www.python-course.eu/python3_sequential_data_types.php) give an introduction to the basics of strings and their related data types. "
   ]
  },
  {
   "cell_type": "markdown",
   "metadata": {},
   "source": [
    "## Exercise Section 3.1: Basic string operations and dictionaries"
   ]
  },
  {
   "cell_type": "markdown",
   "metadata": {},
   "source": [
    "Strings have multiple operations and functions associated. In this exercise we investigate a few of these. We also explore the sequence form of a string and how it can be sliced and accessed via indices.\n",
    "\n",
    "> **Ex. 3.1.1**: Let `s1='Chameleon'` and `s2='ham'`. Check whether the string `s2` is a substring of `s1`. Is `'hello'` a substring `'goodbye'`?\n",
    "\n",
    "> *Hint*: One string operation is to check whether a string `S` contains a substring `T`, this can be done with the `in` operator: `S in T`. "
   ]
  },
  {
   "cell_type": "code",
   "execution_count": 7,
   "metadata": {},
   "outputs": [
    {
     "data": {
      "text/plain": [
       "False"
      ]
     },
     "execution_count": 7,
     "metadata": {},
     "output_type": "execute_result"
    }
   ],
   "source": [
    "# [Answer to Ex. 3.1.1]\n",
    "s1 = 'Chameleon'\n",
    "s2 = 'ham'\n",
    "s1 + ' ' + s2\n",
    "\n",
    "s2  in s1 # true\n",
    "s3 = 'goodbye'\n",
    "'hello' in s3 #false"
   ]
  },
  {
   "cell_type": "markdown",
   "metadata": {},
   "source": [
    "> **Ex. 3.1.2**: From the string `s1` select the last four characters. What is the index of the character `a` in `s1`?\n",
    "\n",
    "> *Hint*: We can selecting a substring by slicing it with the `[]` notation, from the start to end where start is included and end is excluded. Recall that Python has zero-based indexing, see explanation [here](https://softwareengineering.stackexchange.com/questions/110804/why-are-zero-based-arrays-the-norm).\n"
   ]
  },
  {
   "cell_type": "code",
   "execution_count": 6,
   "metadata": {},
   "outputs": [
    {
     "data": {
      "text/plain": [
       "'leon'"
      ]
     },
     "execution_count": 6,
     "metadata": {},
     "output_type": "execute_result"
    }
   ],
   "source": [
    "# [Answer to Ex. 3.1.2]\n",
    "s1[-4:]"
   ]
  },
  {
   "cell_type": "markdown",
   "metadata": {},
   "source": [
    "In addition to the techniques above strings are equipped with an array of _methods_, for solving more complex tasks. For example the `str.join(list)` method will insert a string in between each element of a list. Oppositely `str1.split(str2)` splits `str1` into a list. `.strip()` removes spaces in the beginning and end of a word and `.format()` fills in specified blanks in a string.  Below we illustrate the use of each function\n",
    "\n",
    "```python\n",
    ">>> ','.join(['a','b']) \n",
    "'a,b'\n",
    "\n",
    ">>> ' Hello World! '.strip() \n",
    "'Hello World!'\n",
    "\n",
    ">>> 'Hello {w}'.format(w='World!') \n",
    "'Hello World!'\n",
    "\n",
    ">>> 'a,b,c'.split(',') \n",
    "['a','b','c']\n",
    "```"
   ]
  },
  {
   "cell_type": "markdown",
   "metadata": {},
   "source": [
    "> **Ex. 3.1.3:** Let `l1 = ['r ', 'Is', '>', ' < ', 'g ', '?']`. Create from `l1` the sentence \"Is r > g?\" using your knowledge about string formatting. Make sure there is only one space in between worlds.\n",
    ">\n",
    ">> _Hint:_ You should be able to combine the above informations to solve this exercise."
   ]
  },
  {
   "cell_type": "code",
   "execution_count": 3,
   "metadata": {},
   "outputs": [
    {
     "data": {
      "text/plain": [
       "'Is r>g?'"
      ]
     },
     "execution_count": 3,
     "metadata": {},
     "output_type": "execute_result"
    }
   ],
   "source": [
    "# [Answer to Ex. 3.1.3]\n",
    "l1 = ['r ', 'Is', '>', ' < ', 'g ', '?']\n",
    "\n",
    "\"{} {}{}{}{}\".format(l1[1], l1[0].strip(), l1[2], l1[4].strip(), l1[5])\n",
    "\n",
    "#print(l2)"
   ]
  },
  {
   "cell_type": "code",
   "execution_count": 26,
   "metadata": {},
   "outputs": [
    {
     "data": {
      "text/plain": [
       "'Is r '"
      ]
     },
     "execution_count": 26,
     "metadata": {},
     "output_type": "execute_result"
    }
   ],
   "source": []
  },
  {
   "cell_type": "markdown",
   "metadata": {},
   "source": [
    "### Dictionaries\n",
    "\n",
    "Dictionaries (or simply dicts) are a central building block of python. Python dicts are constructed from pairs of keys and values making them extremely versatile for data storage. Furthermore dicts correspond directly to the json file format.  \n",
    "\n",
    "> **Ex. 3.1.4**: Create an empty dictionary `words` using the `dict()`function. Then add each of the words in `['animal', 'coffee', 'python', 'unit', 'knowledge', 'tread', 'arise']` as a key, with the value being a boolean indicator for whether the word begins with a vowel. The results should look like `{'bacon': False, 'asynchronous': True ...}`\n",
    ">\n",
    ">> _Hint:_ You might want co first construct a function that asseses whether a given word begins with a vowel or not."
   ]
  },
  {
   "cell_type": "code",
   "execution_count": 5,
   "metadata": {},
   "outputs": [
    {
     "name": "stdout",
     "output_type": "stream",
     "text": [
      "{'animal': True, 'coffee': False, 'python': False, 'unit': True, 'knowledge': False, 'tread': False, 'arise': True}\n"
     ]
    }
   ],
   "source": [
    "# [Answer to Ex. 3.1.4]\n",
    "    \n",
    "v =['a', 'e', 'i', 'o', 'q', 'u', 'y']\n",
    "\n",
    "def vowel(x):\n",
    "    if x[0] in v:\n",
    "        return True\n",
    "    else:\n",
    "        return False\n",
    "\n",
    "words = {}\n",
    "keys = ['animal', 'coffee', 'python', 'unit', 'knowledge', 'tread', 'arise'] \n",
    "\n",
    "for w in keys:\n",
    "    words[w] = vowel(w)\n",
    "print(words)"
   ]
  },
  {
   "cell_type": "markdown",
   "metadata": {},
   "source": [
    "> **Ex. 3.1.5:** Loop through the dictionary `words`. In each iteration you should print a proper sentence stating if the current word begins with a vowel or not. \n",
    "\n",
    "> _Hint:_ You can loop through both keys and values simultaneously with the `.items()` method. [This](https://www.tutorialspoint.com/python/python_dictionary.htm) might help you."
   ]
  },
  {
   "cell_type": "code",
   "execution_count": 105,
   "metadata": {},
   "outputs": [
    {
     "name": "stdout",
     "output_type": "stream",
     "text": [
      "The word ANIMAL begins with a vowel\n",
      "The word COFFEE does not begins with a vowel\n",
      "The word PYTHON does not begins with a vowel\n",
      "The word UNIT begins with a vowel\n",
      "The word KNOWLEDGE does not begins with a vowel\n",
      "The word TREAD does not begins with a vowel\n",
      "The word ARISE begins with a vowel\n"
     ]
    }
   ],
   "source": [
    "# [Answer to Ex. 3.1.5]\n",
    "for key,value in words.items():\n",
    "    if value == True:\n",
    "        print(f'The word {key.upper()} begins with a vowel') \n",
    "    else:\n",
    "        print(f'The word {key.upper()} does not begins with a vowel')\n"
   ]
  },
  {
   "cell_type": "markdown",
   "metadata": {},
   "source": [
    "<br>\n",
    "\n",
    "## Exercise Section 3.2: The punk API\n",
    "The [punk API](https://punkapi.com/) serves information about _beers_. It is a well made and well documented API which makes it great for learning about APIs. \n",
    "\n",
    "> **Ex. 3.2.1:** Read the documentation on the Punk API available [here](https://punkapi.com/documentation/v2). What is the server url (i.e. root endpoint) of the Punk API? Does it require authentication? Then use the Punk API to make a request for beers brewed before December, 2008 with an ABV of at least 8."
   ]
  },
  {
   "cell_type": "code",
   "execution_count": 232,
   "metadata": {},
   "outputs": [
    {
     "name": "stdout",
     "output_type": "stream",
     "text": [
      "https://api.punkapi.com/v2/beers?brewed_before=12-2008&abv_gt=8\n"
     ]
    },
    {
     "data": {
      "text/plain": [
       "'[{\"id\":37,\"name\":\"Zephyr\",\"tagline\":\"There’s A Storm Brewing.\",\"first_brewed\":\"10/2008\",\"description\":\"A 9.2% Double IPA aged for 21 months in a 1965 Invergordon cask with 30 kg of fresh highland strawberries. This beer is a riot of whisky, caramel and strawberry, all tempered by a toe curling bitterness enducing rapture in all who taste it. Who needs champagne?\",\"image_url\":\"https://images.punkapi.com/v2/37.png\",\"abv\":12.5,\"ibu\":125,\"target_fg\":1016,\"target_og\":1087,\"ebc\":40,\"srm\":20,\"ph\":4.4,\"attenuation_level\":81.2,\"volume\":{\"value\":20,\"unit\":\"litres\"},\"boil_volume\":{\"value\":25,\"unit\":\"litres\"},\"method\":{\"mash_temp\":[{\"temp\":{\"value\":65,\"unit\":\"celsius\"},\"duration\":75}],\"fermentation\":{\"temp\":{\"value\":21,\"unit\":\"celsius\"}},\"twist\":\"Oak chips: 15g, Fresh strawberries: 3kg\"},\"ingredients\":{\"malt\":[{\"name\":\"Extra Pale\",\"amount\":{\"value\":6.3,\"unit\":\"kilograms\"}},{\"name\":\"Caramalt\",\"amount\":{\"value\":0.38,\"unit\":\"kilograms\"}},{\"name\":\"Crystal 150\",\"amount\":{\"value\":0.29,\"unit\":\"kilograms\"}}],\"hops\":[{\"name\":\"Columbus Extract\",\"amount\":{\"value\":31,\"unit\":\"grams\"},\"add\":\"start\",\"attribute\":\"bitter\"},{\"name\":\"Columbus\",\"amount\":{\"value\":19.5,\"unit\":\"grams\"},\"add\":\"start\",\"attribute\":\"bitter\"},{\"name\":\"Columbus\",\"amount\":{\"value\":19.5,\"unit\":\"grams\"},\"add\":\"middle\",\"attribute\":\"flavour\"},{\"name\":\"Centennial\",\"amount\":{\"value\":19.5,\"unit\":\"grams\"},\"add\":\"middle\",\"attribute\":\"flavour\"},{\"name\":\"Simcoe\",\"amount\":{\"value\":19.5,\"unit\":\"grams\"},\"add\":\"middle\",\"attribute\":\"flavour\"},{\"name\":\"Columbus\",\"amount\":{\"value\":19.5,\"unit\":\"grams\"},\"add\":\"end\",\"attribute\":\"flavour\"},{\"name\":\"Centennial\",\"amount\":{\"value\":19.5,\"unit\":\"grams\"},\"add\":\"end\",\"attribute\":\"flavour\"},{\"name\":\"Centennial\",\"amount\":{\"value\":115.5,\"unit\":\"grams\"},\"add\":\"dry hop\",\"attribute\":\"aroma\"},{\"name\":\"Columbus\",\"amount\":{\"value\":96,\"unit\":\"grams\"},\"add\":\"dry hop\",\"attribute\":\"aroma\"},{\"name\":\"Simcoe\",\"amount\":{\"value\":96,\"unit\":\"grams\"},\"add\":\"dry hop\",\"attribute\":\"aroma\"},{\"name\":\"Amarillo\",\"amount\":{\"value\":77,\"unit\":\"grams\"},\"add\":\"dry hop\",\"attribute\":\"aroma\"}],\"yeast\":\"Wyeast 1272 - American Ale II™\"},\"food_pairing\":[\"Poached eggs and smoked salmon\",\"Salt and pepper squid\",\"Key Lime Pie\"],\"brewers_tips\":\"Rack into a secondary fermenter and add your strawberries. Use a blow-off rather than an airlock as the fermentation can get pretty wild as the yeast starts using the sugar from the strawberries.\",\"contributed_by\":\"Sam Mason <samjbmason>\"},{\"id\":52,\"name\":\"Paradox Islay\",\"tagline\":\"Ubiquitous Imperial Stout.\",\"first_brewed\":\"04/2007\",\"description\":\"In 2006 James and Martin hijacked a beer dinner run by Michael Jackson, the acclaimed beer and whisky writer, and convinced him to taste one of their home brews. This was a defining moment in BrewDog prehistory, and that beer was the first incarnation of the ubiquitous Paradox. Aged in a variety of casks over the years, Paradox is dark, decadent and encapsulating. Can be enjoyed fresh; phenomenal when aged.\",\"image_url\":\"https://images.punkapi.com/v2/52.png\",\"abv\":10,\"ibu\":55,\"target_fg\":1014,\"target_og\":1090,\"ebc\":300,\"srm\":152,\"ph\":4.4,\"attenuation_level\":84.4,\"volume\":{\"value\":20,\"unit\":\"litres\"},\"boil_volume\":{\"value\":25,\"unit\":\"litres\"},\"method\":{\"mash_temp\":[{\"temp\":{\"value\":65,\"unit\":\"celsius\"},\"duration\":90}],\"fermentation\":{\"temp\":{\"value\":21,\"unit\":\"celsius\"}},\"twist\":\"Try ageing on oak chips, infusing with rum raisins, or vanilla pods\"},\"ingredients\":{\"malt\":[{\"name\":\"Extra Pale\",\"amount\":{\"value\":4.5,\"unit\":\"kilograms\"}},{\"name\":\"Caramalt\",\"amount\":{\"value\":0.55,\"unit\":\"kilograms\"}},{\"name\":\"Munich\",\"amount\":{\"value\":0.33,\"unit\":\"kilograms\"}},{\"name\":\"Flaked Oats\",\"amount\":{\"value\":1.35,\"unit\":\"kilograms\"}},{\"name\":\"Dark Crystal\",\"amount\":{\"value\":0.55,\"unit\":\"kilograms\"}},{\"name\":\"Carafa Special Malt Type 1\",\"amount\":{\"value\":0.18,\"unit\":\"kilograms\"}},{\"name\":\"Carafa Special Malt Type 3\",\"amount\":{\"value\":0.33,\"unit\":\"kilograms\"}}],\"hops\":[{\"name\":\"Columbus\",\"amount\":{\"value\":75,\"unit\":\"grams\"},\"add\":\"start\",\"attribute\":\"bitter\"},{\"name\":\"Columbus\",\"amount\":{\"value\":25,\"unit\":\"grams\"},\"add\":\"middle\",\"attribute\":\"flavour\"},{\"name\":\"Saaz\",\"amount\":{\"value\":25,\"unit\":\"grams\"},\"add\":\"end\",\"attribute\":\"flavour\"},{\"name\":\"First Gold\",\"amount\":{\"value\":25,\"unit\":\"grams\"},\"add\":\"end\",\"attribute\":\"flavour\"}],\"yeast\":\"Wyeast 1272 - American Ale II™\"},\"food_pairing\":[\"Ancho chilli beef taco\",\"Chocolate gateaux\",\"Rum poached pears with dark chocolate sauce\"],\"brewers_tips\":\"The beauty of this beer is in how brilliantly it lends itself to infusing or ageing. Experiment with different additions when the beer is ageing, taste it regularly to gauge its progress, and make sure you package it at its peak.\",\"contributed_by\":\"Sam Mason <samjbmason>\"},{\"id\":58,\"name\":\"Coffee Imperial Stout\",\"tagline\":\"Beats a Cup of Joe.\",\"first_brewed\":\"11/2008\",\"description\":\"This beer was released as both as \\\\\"Danish Beerhouse Coffee Imperial Stout\\\\\" and \\\\\"BrewDog Coffee Imperial Stout\\\\\". Deep, dark, roasted flavours make this a perfect Sunday brunch beer.\",\"image_url\":\"https://images.punkapi.com/v2/58.png\",\"abv\":9,\"ibu\":65,\"target_fg\":1019,\"target_og\":1080,\"ebc\":97,\"srm\":49,\"ph\":4.4,\"attenuation_level\":76,\"volume\":{\"value\":20,\"unit\":\"litres\"},\"boil_volume\":{\"value\":25,\"unit\":\"litres\"},\"method\":{\"mash_temp\":[{\"temp\":{\"value\":64,\"unit\":\"celsius\"},\"duration\":90}],\"fermentation\":{\"temp\":{\"value\":19,\"unit\":\"celsius\"}},\"twist\":\"Coffee added after boil. Aged on French oak chips., Dark muscovado sugar: 312.5g for 20mins\"},\"ingredients\":{\"malt\":[{\"name\":\"Extra Pale\",\"amount\":{\"value\":7.5,\"unit\":\"kilograms\"}},{\"name\":\"Dark Crystal\",\"amount\":{\"value\":0.63,\"unit\":\"kilograms\"}},{\"name\":\"Chocolate\",\"amount\":{\"value\":0.31,\"unit\":\"kilograms\"}},{\"name\":\"Roasted Barley\",\"amount\":{\"value\":0.31,\"unit\":\"kilograms\"}}],\"hops\":[{\"name\":\"Chinook\",\"amount\":{\"value\":25,\"unit\":\"grams\"},\"add\":\"start\",\"attribute\":\"bitter\"},{\"name\":\"Galena\",\"amount\":{\"value\":25,\"unit\":\"grams\"},\"add\":\"start\",\"attribute\":\"bitter\"},{\"name\":\"Galena\",\"amount\":{\"value\":25,\"unit\":\"grams\"},\"add\":\"end\",\"attribute\":\"flavour\"},{\"name\":\"First Gold\",\"amount\":{\"value\":25,\"unit\":\"grams\"},\"add\":\"end\",\"attribute\":\"flavour\"},{\"name\":\"Coffee\",\"amount\":{\"value\":9.4,\"unit\":\"grams\"},\"add\":\"end\",\"attribute\":\"flavour\"},{\"name\":\"Coffee\",\"amount\":{\"value\":9.4,\"unit\":\"grams\"},\"add\":\"dry hop\",\"attribute\":\"aroma\"}],\"yeast\":\"Wyeast 1056 - American Ale™\"},\"food_pairing\":[\"Gooey chocolate brownies\",\"Chicken fried steak with cheesy mash\",\"Spicy chicken empanadas\"],\"brewers_tips\":\"Grind the coffee as if making an espresso to really get the most out of it.\",\"contributed_by\":\"Sam Mason <samjbmason>\"},{\"id\":149,\"name\":\"AB:03\",\"tagline\":\"Barrel-Aged Imperial Ale.\",\"first_brewed\":\"09/2008\",\"description\":\"This Abstrakt started life as a simple imperial Ale, but upon the addition of fresh Scottish raspberries and strawberries, and left to mature for 2 years in Invergordon whisky casks that had held whisky for over 40 years, this beer transcended into something new.\",\"image_url\":\"https://images.punkapi.com/v2/149.png\",\"abv\":10.5,\"ibu\":14,\"target_fg\":1013,\"target_og\":1093,\"ebc\":null,\"srm\":null,\"ph\":4.4,\"attenuation_level\":80,\"volume\":{\"value\":20,\"unit\":\"litres\"},\"boil_volume\":{\"value\":25,\"unit\":\"litres\"},\"method\":{\"mash_temp\":[{\"temp\":{\"value\":65,\"unit\":\"celsius\"},\"duration\":90}],\"fermentation\":{\"temp\":{\"value\":19,\"unit\":\"celsius\"}},\"twist\":\"Strawberries: 1kg, Raspberries: 1kg, Oak Chips: 75g\"},\"ingredients\":{\"malt\":[{\"name\":\"Extra Pale\",\"amount\":{\"value\":8,\"unit\":\"kilograms\"}}],\"hops\":[{\"name\":\"Magnum\",\"amount\":{\"value\":66.7,\"unit\":\"grams\"},\"add\":\"end\",\"attribute\":\"flavour\"}],\"yeast\":\"Wyeast 1056 - American Ale™\"},\"food_pairing\":[\"Haggis spring rolls\",\"Honey glazed duck breast\",\"Cranachan\"],\"brewers_tips\":\"Add your hops with five minutes of the boil left in a nod to the great lambic producers of Belgium.\",\"contributed_by\":\"Sam Mason <samjbmason>\"}]'"
      ]
     },
     "execution_count": 232,
     "metadata": {},
     "output_type": "execute_result"
    }
   ],
   "source": [
    "# [Answer to Ex. 3.2.1]\n",
    "\n",
    "server_url = 'https://api.punkapi.com/' # no need for authentication\n",
    "endpoint_path = 'v2/beers?brewed_before=12-2008&abv_gt=8'\n",
    "url = server_url + endpoint_path\n",
    "print(url)\n",
    "\n",
    "import requests # import the module\n",
    "\n",
    "response = requests.get(url) # submit query with `get` and save response \n",
    "response.text"
   ]
  },
  {
   "cell_type": "markdown",
   "metadata": {},
   "source": [
    "> **Ex. 3.2.2:** What object type is the API's JSON response? What about the individual items in the container? Convert the response object to a suitable format and answer the following questions:\n",
    ">> 1) How many beers are in the JSON object?\n",
    ">>\n",
    ">> 2) Print the names of the beers in the JSON object using lower case characters.\n",
    ">>\n",
    ">> 3) Select the beer called Paradox Islay from the JSON object.\n",
    ">>\n",
    ">> 4) Which hop ingredients does the Paradox Islay contain?\n"
   ]
  },
  {
   "cell_type": "code",
   "execution_count": 240,
   "metadata": {},
   "outputs": [
    {
     "name": "stdout",
     "output_type": "stream",
     "text": [
      "[{'abv': 12.5,\n",
      "  'attenuation_level': 81.2,\n",
      "  'boil_volume': {'unit': 'litres', 'value': 25},\n",
      "  'brewers_tips': 'Rack into a secondary fermenter and add your strawberries. '\n",
      "                  'Use a blow-off rather than an airlock as the fermentation '\n",
      "                  'can get pretty wild as the yeast starts using the sugar '\n",
      "                  'from the strawberries.',\n",
      "  'contributed_by': 'Sam Mason <samjbmason>',\n",
      "  'description': 'A 9.2% Double IPA aged for 21 months in a 1965 Invergordon '\n",
      "                 'cask with 30 kg of fresh highland strawberries. This beer is '\n",
      "                 'a riot of whisky, caramel and strawberry, all tempered by a '\n",
      "                 'toe curling bitterness enducing rapture in all who taste it. '\n",
      "                 'Who needs champagne?',\n",
      "  'ebc': 40,\n",
      "  'first_brewed': '10/2008',\n",
      "  'food_pairing': ['Poached eggs and smoked salmon',\n",
      "                   'Salt and pepper squid',\n",
      "                   'Key Lime Pie'],\n",
      "  'ibu': 125,\n",
      "  'id': 37,\n",
      "  'image_url': 'https://images.punkapi.com/v2/37.png',\n",
      "  'ingredients': {'hops': [{'add': 'start',\n",
      "                            'amount': {'unit': 'grams', 'value': 31},\n",
      "                            'attribute': 'bitter',\n",
      "                            'name': 'Columbus Extract'},\n",
      "                           {'add': 'start',\n",
      "                            'amount': {'unit': 'grams', 'value': 19.5},\n",
      "                            'attribute': 'bitter',\n",
      "                            'name': 'Columbus'},\n",
      "                           {'add': 'middle',\n",
      "                            'amount': {'unit': 'grams', 'value': 19.5},\n",
      "                            'attribute': 'flavour',\n",
      "                            'name': 'Columbus'},\n",
      "                           {'add': 'middle',\n",
      "                            'amount': {'unit': 'grams', 'value': 19.5},\n",
      "                            'attribute': 'flavour',\n",
      "                            'name': 'Centennial'},\n",
      "                           {'add': 'middle',\n",
      "                            'amount': {'unit': 'grams', 'value': 19.5},\n",
      "                            'attribute': 'flavour',\n",
      "                            'name': 'Simcoe'},\n",
      "                           {'add': 'end',\n",
      "                            'amount': {'unit': 'grams', 'value': 19.5},\n",
      "                            'attribute': 'flavour',\n",
      "                            'name': 'Columbus'},\n",
      "                           {'add': 'end',\n",
      "                            'amount': {'unit': 'grams', 'value': 19.5},\n",
      "                            'attribute': 'flavour',\n",
      "                            'name': 'Centennial'},\n",
      "                           {'add': 'dry hop',\n",
      "                            'amount': {'unit': 'grams', 'value': 115.5},\n",
      "                            'attribute': 'aroma',\n",
      "                            'name': 'Centennial'},\n",
      "                           {'add': 'dry hop',\n",
      "                            'amount': {'unit': 'grams', 'value': 96},\n",
      "                            'attribute': 'aroma',\n",
      "                            'name': 'Columbus'},\n",
      "                           {'add': 'dry hop',\n",
      "                            'amount': {'unit': 'grams', 'value': 96},\n",
      "                            'attribute': 'aroma',\n",
      "                            'name': 'Simcoe'},\n",
      "                           {'add': 'dry hop',\n",
      "                            'amount': {'unit': 'grams', 'value': 77},\n",
      "                            'attribute': 'aroma',\n",
      "                            'name': 'Amarillo'}],\n",
      "                  'malt': [{'amount': {'unit': 'kilograms', 'value': 6.3},\n",
      "                            'name': 'Extra Pale'},\n",
      "                           {'amount': {'unit': 'kilograms', 'value': 0.38},\n",
      "                            'name': 'Caramalt'},\n",
      "                           {'amount': {'unit': 'kilograms', 'value': 0.29},\n",
      "                            'name': 'Crystal 150'}],\n",
      "                  'yeast': 'Wyeast 1272 - American Ale II™'},\n",
      "  'method': {'fermentation': {'temp': {'unit': 'celsius', 'value': 21}},\n",
      "             'mash_temp': [{'duration': 75,\n",
      "                            'temp': {'unit': 'celsius', 'value': 65}}],\n",
      "             'twist': 'Oak chips: 15g, Fresh strawberries: 3kg'},\n",
      "  'name': 'Zephyr',\n",
      "  'ph': 4.4,\n",
      "  'srm': 20,\n",
      "  'tagline': 'There’s A Storm Brewing.',\n",
      "  'target_fg': 1016,\n",
      "  'target_og': 1087,\n",
      "  'volume': {'unit': 'litres', 'value': 20}},\n",
      " {'abv': 10,\n",
      "  'attenuation_level': 84.4,\n",
      "  'boil_volume': {'unit': 'litres', 'value': 25},\n",
      "  'brewers_tips': 'The beauty of this beer is in how brilliantly it lends '\n",
      "                  'itself to infusing or ageing. Experiment with different '\n",
      "                  'additions when the beer is ageing, taste it regularly to '\n",
      "                  'gauge its progress, and make sure you package it at its '\n",
      "                  'peak.',\n",
      "  'contributed_by': 'Sam Mason <samjbmason>',\n",
      "  'description': 'In 2006 James and Martin hijacked a beer dinner run by '\n",
      "                 'Michael Jackson, the acclaimed beer and whisky writer, and '\n",
      "                 'convinced him to taste one of their home brews. This was a '\n",
      "                 'defining moment in BrewDog prehistory, and that beer was the '\n",
      "                 'first incarnation of the ubiquitous Paradox. Aged in a '\n",
      "                 'variety of casks over the years, Paradox is dark, decadent '\n",
      "                 'and encapsulating. Can be enjoyed fresh; phenomenal when '\n",
      "                 'aged.',\n",
      "  'ebc': 300,\n",
      "  'first_brewed': '04/2007',\n",
      "  'food_pairing': ['Ancho chilli beef taco',\n",
      "                   'Chocolate gateaux',\n",
      "                   'Rum poached pears with dark chocolate sauce'],\n",
      "  'ibu': 55,\n",
      "  'id': 52,\n",
      "  'image_url': 'https://images.punkapi.com/v2/52.png',\n",
      "  'ingredients': {'hops': [{'add': 'start',\n",
      "                            'amount': {'unit': 'grams', 'value': 75},\n",
      "                            'attribute': 'bitter',\n",
      "                            'name': 'Columbus'},\n",
      "                           {'add': 'middle',\n",
      "                            'amount': {'unit': 'grams', 'value': 25},\n",
      "                            'attribute': 'flavour',\n",
      "                            'name': 'Columbus'},\n",
      "                           {'add': 'end',\n",
      "                            'amount': {'unit': 'grams', 'value': 25},\n",
      "                            'attribute': 'flavour',\n",
      "                            'name': 'Saaz'},\n",
      "                           {'add': 'end',\n",
      "                            'amount': {'unit': 'grams', 'value': 25},\n",
      "                            'attribute': 'flavour',\n",
      "                            'name': 'First Gold'}],\n",
      "                  'malt': [{'amount': {'unit': 'kilograms', 'value': 4.5},\n",
      "                            'name': 'Extra Pale'},\n",
      "                           {'amount': {'unit': 'kilograms', 'value': 0.55},\n",
      "                            'name': 'Caramalt'},\n",
      "                           {'amount': {'unit': 'kilograms', 'value': 0.33},\n",
      "                            'name': 'Munich'},\n",
      "                           {'amount': {'unit': 'kilograms', 'value': 1.35},\n",
      "                            'name': 'Flaked Oats'},\n",
      "                           {'amount': {'unit': 'kilograms', 'value': 0.55},\n",
      "                            'name': 'Dark Crystal'},\n",
      "                           {'amount': {'unit': 'kilograms', 'value': 0.18},\n",
      "                            'name': 'Carafa Special Malt Type 1'},\n",
      "                           {'amount': {'unit': 'kilograms', 'value': 0.33},\n",
      "                            'name': 'Carafa Special Malt Type 3'}],\n",
      "                  'yeast': 'Wyeast 1272 - American Ale II™'},\n",
      "  'method': {'fermentation': {'temp': {'unit': 'celsius', 'value': 21}},\n",
      "             'mash_temp': [{'duration': 90,\n",
      "                            'temp': {'unit': 'celsius', 'value': 65}}],\n",
      "             'twist': 'Try ageing on oak chips, infusing with rum raisins, or '\n",
      "                      'vanilla pods'},\n",
      "  'name': 'Paradox Islay',\n",
      "  'ph': 4.4,\n",
      "  'srm': 152,\n",
      "  'tagline': 'Ubiquitous Imperial Stout.',\n",
      "  'target_fg': 1014,\n",
      "  'target_og': 1090,\n",
      "  'volume': {'unit': 'litres', 'value': 20}},\n",
      " {'abv': 9,\n",
      "  'attenuation_level': 76,\n",
      "  'boil_volume': {'unit': 'litres', 'value': 25},\n",
      "  'brewers_tips': 'Grind the coffee as if making an espresso to really get the '\n",
      "                  'most out of it.',\n",
      "  'contributed_by': 'Sam Mason <samjbmason>',\n",
      "  'description': 'This beer was released as both as \"Danish Beerhouse Coffee '\n",
      "                 'Imperial Stout\" and \"BrewDog Coffee Imperial Stout\". Deep, '\n",
      "                 'dark, roasted flavours make this a perfect Sunday brunch '\n",
      "                 'beer.',\n",
      "  'ebc': 97,\n",
      "  'first_brewed': '11/2008',\n",
      "  'food_pairing': ['Gooey chocolate brownies',\n",
      "                   'Chicken fried steak with cheesy mash',\n",
      "                   'Spicy chicken empanadas'],\n",
      "  'ibu': 65,\n",
      "  'id': 58,\n",
      "  'image_url': 'https://images.punkapi.com/v2/58.png',\n",
      "  'ingredients': {'hops': [{'add': 'start',\n",
      "                            'amount': {'unit': 'grams', 'value': 25},\n",
      "                            'attribute': 'bitter',\n",
      "                            'name': 'Chinook'},\n",
      "                           {'add': 'start',\n",
      "                            'amount': {'unit': 'grams', 'value': 25},\n",
      "                            'attribute': 'bitter',\n",
      "                            'name': 'Galena'},\n",
      "                           {'add': 'end',\n",
      "                            'amount': {'unit': 'grams', 'value': 25},\n",
      "                            'attribute': 'flavour',\n",
      "                            'name': 'Galena'},\n",
      "                           {'add': 'end',\n",
      "                            'amount': {'unit': 'grams', 'value': 25},\n",
      "                            'attribute': 'flavour',\n",
      "                            'name': 'First Gold'},\n",
      "                           {'add': 'end',\n",
      "                            'amount': {'unit': 'grams', 'value': 9.4},\n",
      "                            'attribute': 'flavour',\n",
      "                            'name': 'Coffee'},\n",
      "                           {'add': 'dry hop',\n",
      "                            'amount': {'unit': 'grams', 'value': 9.4},\n",
      "                            'attribute': 'aroma',\n",
      "                            'name': 'Coffee'}],\n",
      "                  'malt': [{'amount': {'unit': 'kilograms', 'value': 7.5},\n",
      "                            'name': 'Extra Pale'},\n",
      "                           {'amount': {'unit': 'kilograms', 'value': 0.63},\n",
      "                            'name': 'Dark Crystal'},\n",
      "                           {'amount': {'unit': 'kilograms', 'value': 0.31},\n",
      "                            'name': 'Chocolate'},\n",
      "                           {'amount': {'unit': 'kilograms', 'value': 0.31},\n",
      "                            'name': 'Roasted Barley'}],\n",
      "                  'yeast': 'Wyeast 1056 - American Ale™'},\n",
      "  'method': {'fermentation': {'temp': {'unit': 'celsius', 'value': 19}},\n",
      "             'mash_temp': [{'duration': 90,\n",
      "                            'temp': {'unit': 'celsius', 'value': 64}}],\n",
      "             'twist': 'Coffee added after boil. Aged on French oak chips., '\n",
      "                      'Dark muscovado sugar: 312.5g for 20mins'},\n",
      "  'name': 'Coffee Imperial Stout',\n",
      "  'ph': 4.4,\n",
      "  'srm': 49,\n",
      "  'tagline': 'Beats a Cup of Joe.',\n",
      "  'target_fg': 1019,\n",
      "  'target_og': 1080,\n",
      "  'volume': {'unit': 'litres', 'value': 20}},\n",
      " {'abv': 10.5,\n",
      "  'attenuation_level': 80,\n",
      "  'boil_volume': {'unit': 'litres', 'value': 25},\n",
      "  'brewers_tips': 'Add your hops with five minutes of the boil left in a nod '\n",
      "                  'to the great lambic producers of Belgium.',\n",
      "  'contributed_by': 'Sam Mason <samjbmason>',\n",
      "  'description': 'This Abstrakt started life as a simple imperial Ale, but '\n",
      "                 'upon the addition of fresh Scottish raspberries and '\n",
      "                 'strawberries, and left to mature for 2 years in Invergordon '\n",
      "                 'whisky casks that had held whisky for over 40 years, this '\n",
      "                 'beer transcended into something new.',\n",
      "  'ebc': None,\n",
      "  'first_brewed': '09/2008',\n",
      "  'food_pairing': ['Haggis spring rolls',\n",
      "                   'Honey glazed duck breast',\n",
      "                   'Cranachan'],\n",
      "  'ibu': 14,\n",
      "  'id': 149,\n",
      "  'image_url': 'https://images.punkapi.com/v2/149.png',\n",
      "  'ingredients': {'hops': [{'add': 'end',\n",
      "                            'amount': {'unit': 'grams', 'value': 66.7},\n",
      "                            'attribute': 'flavour',\n",
      "                            'name': 'Magnum'}],\n",
      "                  'malt': [{'amount': {'unit': 'kilograms', 'value': 8},\n",
      "                            'name': 'Extra Pale'}],\n",
      "                  'yeast': 'Wyeast 1056 - American Ale™'},\n",
      "  'method': {'fermentation': {'temp': {'unit': 'celsius', 'value': 19}},\n",
      "             'mash_temp': [{'duration': 90,\n",
      "                            'temp': {'unit': 'celsius', 'value': 65}}],\n",
      "             'twist': 'Strawberries: 1kg, Raspberries: 1kg, Oak Chips: 75g'},\n",
      "  'name': 'AB:03',\n",
      "  'ph': 4.4,\n",
      "  'srm': None,\n",
      "  'tagline': 'Barrel-Aged Imperial Ale.',\n",
      "  'target_fg': 1013,\n",
      "  'target_og': 1093,\n",
      "  'volume': {'unit': 'litres', 'value': 20}}]\n",
      "4\n"
     ]
    }
   ],
   "source": [
    "# [Answer to Ex. 3.2.2]\n",
    "response_json = response.json()\n",
    "response_json\n",
    "import pprint\n",
    "pprint.pprint(response.json())\n",
    "\n",
    "#1\n",
    "print(len(response_json)) #number of beers = 4\n"
   ]
  },
  {
   "cell_type": "code",
   "execution_count": 236,
   "metadata": {},
   "outputs": [
    {
     "name": "stdout",
     "output_type": "stream",
     "text": [
      "Zephyr\n",
      "Paradox Islay\n",
      "Coffee Imperial Stout\n",
      "AB:03\n"
     ]
    }
   ],
   "source": [
    "#2\n",
    "for beer in response_json:\n",
    "    print(beer[\"name\"])\n"
   ]
  },
  {
   "cell_type": "code",
   "execution_count": 251,
   "metadata": {},
   "outputs": [],
   "source": [
    "#3+4\n",
    "for beer in response_json:\n",
    "    if beer[\"name\"] == \"Paradox Islay\":\n",
    "        the_beer = beer\n",
    "        \n",
    "hops_beer = the_beer[\"ingredients\"][\"hops\"]\n"
   ]
  },
  {
   "cell_type": "markdown",
   "metadata": {},
   "source": [
    "> **Ex. 3.2.3:** Save the beers as a JSON file on your machine.\n",
    "\n",
    "> _Hint:_ you might want to take a look at the [json](https://docs.python.org/3/library/json.html) module.\n"
   ]
  },
  {
   "cell_type": "code",
   "execution_count": 252,
   "metadata": {},
   "outputs": [],
   "source": [
    "# [Answer to Ex. 3.2.3]\n",
    "response_json_str = json.dumps(response_json)\n",
    "\n",
    "with open('my_file.json', 'w') as f:\n",
    "    f.write(response_json_str)"
   ]
  },
  {
   "cell_type": "markdown",
   "metadata": {},
   "source": [
    "<br>\n",
    "\n",
    "## Exercise Section 3.3: The DST API\n",
    "\n",
    "DST (Statistics Denmark) provide an API access to their aggregate data. For developers they supply a [console](https://api.statbank.dk/console) for testing. In this exercise we will first code up a simple script which can collect data from the DST API, and then introduce the [PyDST](https://kristianuruplarsen.github.io/PyDST/) package. \n",
    "\n",
    "> **Ex 3.3.1:** Use the API console to construct a GET request which retrieves the table FOLK1A split by quarter. The return should be in JSON format. We want all available dates.\n",
    ">\n",
    ">Then write a function `construct_link()` which takes as inputs: a table ID (e.g. `'FOLK1A'`) and a list of strings like `['var1=*', 'var2=somevalue']`. The function should return the proper URL for getting a dataset with the specified variables (e.g. in this case all levels of var1, but only where var2=somevalue).\n",
    "\n",
    "> _Hint:_ The time variable is called 'tid'. To select all available values, set the value-id to '*'. Spend a little time with the console to get a sense of how the URLs are constructed.\n"
   ]
  },
  {
   "cell_type": "code",
   "execution_count": 212,
   "metadata": {},
   "outputs": [
    {
     "name": "stdout",
     "output_type": "stream",
     "text": [
      "https://api.statbank.dk/v1/tableinfo/folk1a?format=JSON\n"
     ]
    },
    {
     "data": {
      "text/plain": [
       "'https://api.statbank.dk/v1/data/FOLK1A/JSONSTAT?lang=en&Tid=*&BARNKON=P'"
      ]
     },
     "execution_count": 212,
     "metadata": {},
     "output_type": "execute_result"
    }
   ],
   "source": [
    "# [Answer to Ex. 3.3.1]\n",
    "server_url = 'https://api.statbank.dk/' # no need for authentication\n",
    "endpoint_path = 'v1/tableinfo/folk1a?format=JSON'\n",
    "\n",
    "url = server_url + endpoint_path\n",
    "print(url)\n",
    "import requests # import the module\n",
    "response = requests.get(url) # submit query with `get` and save response \n",
    "\n",
    "\n",
    "def construct_url(table, var):\n",
    "    server_url = 'https://api.statbank.dk'\n",
    "    endpoint_path = '/v1/data/{w}/JSONSTAT?lang=en'.format(w=table)\n",
    "    \n",
    "    for v in var:\n",
    "        endpoint_path += '&{r}'.format(r=v)\n",
    "    \n",
    "    url = server_url + endpoint_path\n",
    "    \n",
    "    return url\n",
    "    #&varstr=*&var=0\n",
    "    \n",
    "#construct_url(\"FOLK1A\")\n",
    "#https://api.statbank.dk/v1\n",
    "\n",
    "construct_url('FOLK1A', ['Tid=*', 'BARNKON=P'])"
   ]
  },
  {
   "cell_type": "markdown",
   "metadata": {},
   "source": [
    "When executing the request in the console you should get a json file as output. Next lets write some code to load these json files directly into python. \n",
    "\n",
    "\n",
    "> **Ex. 3.3.2:** use the `requests` module (get it with `pip install requests`) and `construct_link()` to request birth data from the \"FOD\" table. Get all available years (variable \"Tid\"), but only female births (BARNKON=P) . Unpack the json payload and store the result. Wrap the whole thing in a function which takes an url as input and returns the corresponding output.\n",
    "\n",
    "> _Hint:_ The `requests.response` object has a `.json()` method. "
   ]
  },
  {
   "cell_type": "code",
   "execution_count": 219,
   "metadata": {},
   "outputs": [
    {
     "name": "stdout",
     "output_type": "stream",
     "text": [
      "[34996, 34771, 35260, 31533, 30055, 30161, 28909, 27941, 25972, 25595, 24821, 25228, 26284, 26878, 27142, 28520, 29876, 30813, 31353, 32914, 32760, 34027, 33885, 32819, 32899, 32116, 32341, 32652, 31961, 31109, 31441, 31539, 31459, 31580, 31267, 31507, 30557, 30946, 28984, 28131, 27283, 27616, 28357, 29833, 29930, 29865]\n"
     ]
    }
   ],
   "source": [
    "# [Answer to Ex. 3.3.2]\n",
    "s = construct_url('FOD', ['Tid=*', 'BARNKON=P'])\n",
    "response = requests.get(s)\n",
    "data = response.json()\n",
    "#print(data)\n",
    "\n",
    "import pprint\n",
    "#pprint.pprint(data)\n",
    "girls = data['dataset']['value']\n",
    "print(girls)"
   ]
  },
  {
   "cell_type": "markdown",
   "metadata": {},
   "source": [
    "> **Ex. 3.3.3:** Extract the number of girls born each year. Store the results as a list."
   ]
  },
  {
   "cell_type": "code",
   "execution_count": 21,
   "metadata": {},
   "outputs": [],
   "source": [
    "# [Answer to Ex. 3.3.3]"
   ]
  },
  {
   "cell_type": "markdown",
   "metadata": {},
   "source": [
    "> **Ex.3.3.4:** Repeat 3.3.2 and 3.3.3 but this time only get boy births (BARNKON=D). Store the numbers in a new list and use the `plot_births` (supplied below) function to plot the data. If you don't already have matplotlib installed run `pip install matplotlib`."
   ]
  },
  {
   "cell_type": "code",
   "execution_count": 220,
   "metadata": {},
   "outputs": [
    {
     "name": "stdout",
     "output_type": "stream",
     "text": [
      "[36899, 36556, 36811, 33734, 31823, 31875, 30555, 29352, 27117, 27063, 26001, 26572, 27465, 28434, 29079, 30324, 31475, 32620, 33005, 34812, 34609, 35639, 35886, 34819, 34749, 34058, 33879, 34432, 33497, 32966, 33158, 33070, 32823, 33404, 32815, 33531, 32261, 32465, 30014, 29785, 28590, 29254, 29848, 31781, 31467, 31611]\n"
     ]
    }
   ],
   "source": [
    "d = construct_url('FOD', ['Tid=*', 'BARNKON=D'])\n",
    "response = requests.get(d)\n",
    "data = response.json()\n",
    "#print(data)\n",
    "\n",
    "import pprint\n",
    "#pprint.pprint(data)\n",
    "boys = data['dataset']['value']\n",
    "print(boys)\n",
    "\n"
   ]
  },
  {
   "cell_type": "code",
   "execution_count": 222,
   "metadata": {},
   "outputs": [],
   "source": [
    "# Just run this once, do not change it.\n",
    "import matplotlib.pyplot as plt \n",
    "\n",
    "def plot_births(boys, girls):\n",
    "    \"\"\" Plots lineplot of the number of births split by gender.\n",
    "    \n",
    "    Args: \n",
    "        boys: a list of boy births by year\n",
    "        girls: a list of girl births by year\n",
    "    \"\"\"\n",
    "    if not len(boys) == len(girls):\n",
    "        raise ValueError('There must be the same number of observations for boys and girls')\n",
    "    \n",
    "    labels = ['{y}'.format(y=year) for year in range(1973,2018)]\n",
    "    \n",
    "    plt.plot(range(len(boys)), boys, color = 'blue', label = 'boys')\n",
    "    plt.plot(range(len(boys)), girls, color = 'red', label = 'girls')\n",
    "    plt.xticks([i for i in range(len(boys)) if i%4 == 0], [l for i,l in zip(range(len(boys)),labels) if i%4 == 0],\n",
    "               rotation = 'vertical')\n",
    "    plt.legend()\n",
    "    plt.show()"
   ]
  },
  {
   "cell_type": "code",
   "execution_count": 227,
   "metadata": {},
   "outputs": [
    {
     "data": {
      "image/png": "[encoded data removed]",
      "text/plain": [
       "<matplotlib.figure.Figure at 0x23b7c175198>"
      ]
     },
     "metadata": {
      "needs_background": "light"
     },
     "output_type": "display_data"
    }
   ],
   "source": [
    "# [Answer to Ex. 3.3.4]\n",
    "d = construct_url('FOD',['Tid=*', 'BARNKON=D'])\n",
    "response = requests.get(d)\n",
    "\n",
    "data = response.json()\n",
    "\n",
    "boys = data['dataset']['value']\n",
    "\n",
    "plot_births(boys, girls)"
   ]
  },
  {
   "cell_type": "markdown",
   "metadata": {},
   "source": [
    ">**(Bonus question) Ex. 3.3.5:** Go to [https://kristianuruplarsen.github.io/PyDST/](https://kristianuruplarsen.github.io/PyDST/) follow the installation instructions and import PyDST. Try to replicate the birth figure from 3.3.4 using PyDST. Use [the documentation](https://kristianuruplarsen.github.io/PyDST/connection) to learn how the package works.\n",
    "\n",
    "> _Hint:_ PyDST does not use json or dicts as its primary data format, instead it uses pandas DataFrames. When you install PyDST it will install pandas as a dependency. If this doesn't work simply run `pip install pandas` in your console. DataFrames are very intuitive to work with, for example accessing a column named 'name' is simply `data['name']` or `data.name`.\n",
    ">\n",
    "> In the next session you will learn more about pandas and DataFrames. If you are more comfortable with dicts, the data_response class has a `.dict` method you can use. "
   ]
  },
  {
   "cell_type": "code",
   "execution_count": 26,
   "metadata": {},
   "outputs": [],
   "source": [
    "# [Answer to Ex. 3.3.5]"
   ]
  }
 ],
 "metadata": {
  "kernelspec": {
   "display_name": "Python 3",
   "language": "python",
   "name": "python3"
  },
  "language_info": {
   "codemirror_mode": {
    "name": "ipython",
    "version": 3
   },
   "file_extension": ".py",
   "mimetype": "text/x-python",
   "name": "python",
   "nbconvert_exporter": "python",
   "pygments_lexer": "ipython3",
   "version": "3.6.4"
  }
 },
 "nbformat": 4,
 "nbformat_minor": 2
}
